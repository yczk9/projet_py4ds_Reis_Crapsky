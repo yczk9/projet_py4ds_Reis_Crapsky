{
 "cells": [
  {
   "cell_type": "markdown",
   "id": "0b31306b",
   "metadata": {},
   "source": [
    "# Le PIB est-il un indicateur robuste de l'accès à l'alimentation ?"
   ]
  },
  {
   "cell_type": "code",
   "execution_count": 11,
   "id": "63d1b7e0",
   "metadata": {},
   "outputs": [],
   "source": [
    "import requests\n",
    "import pandas as pd\n",
    "import numpy as np"
   ]
  },
  {
   "cell_type": "markdown",
   "id": "b0560182",
   "metadata": {},
   "source": [
    "## Partie 1 : Collecte des données"
   ]
  },
  {
   "cell_type": "markdown",
   "id": "44efa4dd",
   "metadata": {},
   "source": [
    "### Récupération des données de PIB à partir de la base de données de la banque mondiale"
   ]
  },
  {
   "cell_type": "code",
   "execution_count": 12,
   "id": "e43308bf",
   "metadata": {},
   "outputs": [
    {
     "name": "stdout",
     "output_type": "stream",
     "text": [
      "<class 'list'> 2\n",
      "{'page': 1, 'pages': 1, 'per_page': 20000, 'total': 17290, 'sourceid': '2', 'lastupdated': '2025-10-07'}\n",
      "[{'indicator': {'id': 'NY.GDP.PCAP.KD', 'value': 'GDP per capita (constant 2015 US$)'}, 'country': {'id': 'ZH', 'value': 'Africa Eastern and Southern'}, 'countryiso3code': 'AFE', 'date': '2024', 'value': 1416.25036869408, 'unit': '', 'obs_status': '', 'decimal': 1}, {'indicator': {'id': 'NY.GDP.PCAP.KD', 'value': 'GDP per capita (constant 2015 US$)'}, 'country': {'id': 'ZH', 'value': 'Africa Eastern and Southern'}, 'countryiso3code': 'AFE', 'date': '2023', 'value': 1412.62538438423, 'unit': '', 'obs_status': '', 'decimal': 1}, {'indicator': {'id': 'NY.GDP.PCAP.KD', 'value': 'GDP per capita (constant 2015 US$)'}, 'country': {'id': 'ZH', 'value': 'Africa Eastern and Southern'}, 'countryiso3code': 'AFE', 'date': '2022', 'value': 1421.79716897878, 'unit': '', 'obs_status': '', 'decimal': 1}, {'indicator': {'id': 'NY.GDP.PCAP.KD', 'value': 'GDP per capita (constant 2015 US$)'}, 'country': {'id': 'ZH', 'value': 'Africa Eastern and Southern'}, 'countryiso3code': 'AFE', 'date': '2021', 'value': 1409.04069884703, 'unit': '', 'obs_status': '', 'decimal': 1}, {'indicator': {'id': 'NY.GDP.PCAP.KD', 'value': 'GDP per capita (constant 2015 US$)'}, 'country': {'id': 'ZH', 'value': 'Africa Eastern and Southern'}, 'countryiso3code': 'AFE', 'date': '2020', 'value': 1383.72411941014, 'unit': '', 'obs_status': '', 'decimal': 1}]\n"
     ]
    }
   ],
   "source": [
    "url = \"https://api.worldbank.org/v2/country/all/indicator/NY.GDP.PCAP.KD?format=json&per_page=20000\"\n",
    "\n",
    "\n",
    "response = requests.get(url)\n",
    "\n",
    "# Extraction du JSON de la réponse\n",
    "PIB_hab = response.json()  # ici c’est correct\n",
    "\n",
    "# Vérification des données\n",
    "print(type(PIB_hab),len(PIB_hab))\n",
    "print(PIB_hab[0]) # Métadonnées\n",
    "print(PIB_hab[1][:5]) # Données de PIB par pays\n"
   ]
  },
  {
   "cell_type": "markdown",
   "id": "6b7e6720",
   "metadata": {},
   "source": [
    "#Retraitement des données\n"
   ]
  },
  {
   "cell_type": "markdown",
   "id": "e7e4212a",
   "metadata": {},
   "source": [
    "Suppression des colonnes inutiles"
   ]
  },
  {
   "cell_type": "code",
   "execution_count": 13,
   "id": "8a79cd96",
   "metadata": {},
   "outputs": [
    {
     "name": "stdout",
     "output_type": "stream",
     "text": [
      "                        nom_pays  année  PIB_par_habitant\n",
      "2    Africa Eastern and Southern   2022       1421.797169\n",
      "3    Africa Eastern and Southern   2021       1409.040699\n",
      "4    Africa Eastern and Southern   2020       1383.724119\n",
      "5    Africa Eastern and Southern   2019       1463.437891\n",
      "6    Africa Eastern and Southern   2018       1471.438317\n",
      "..                           ...    ...               ...\n",
      "203       Caribbean small states   2016      13879.439408\n",
      "204       Caribbean small states   2015      14402.472578\n",
      "205       Caribbean small states   2014      14514.365526\n",
      "206       Caribbean small states   2013      14247.783112\n",
      "207       Caribbean small states   2012      14138.383887\n",
      "\n",
      "[200 rows x 3 columns]\n"
     ]
    }
   ],
   "source": [
    "donnees = PIB_hab[1]  # On ne garde pas les métadonnées\n",
    "\n",
    "# On transforme le JSON en DataFrame et on ne garde que le PIB/hab pour chaque années avec le nom et le code du pays\n",
    "liste_simplifiee = []\n",
    "for item in donnees:\n",
    "    nom_pays = item['country']['value']  # nom complet du pays\n",
    "    annee = int(item['date'])\n",
    "    pib = item['value']\n",
    "    liste_simplifiee.append({'nom_pays': nom_pays, 'année': annee, 'PIB_par_habitant': pib})\n",
    "\n",
    "PIB_hab_simple = pd.DataFrame(liste_simplifiee)\n",
    "\n",
    "# Filtrer uniquement les années de 1960 à 2022. \n",
    "PIB_hab_simple = PIB_hab_simple[(PIB_hab_simple['année'] >= 1960) & (PIB_hab_simple['année'] <= 2022)]\n",
    "\n",
    "# Afficher les 5 premières lignes\n",
    "print(PIB_hab_simple.head(200))"
   ]
  },
  {
   "cell_type": "markdown",
   "id": "c396e7c9",
   "metadata": {},
   "source": [
    "Filtrage pour enlever les pays contenant des valeurs manquantes"
   ]
  },
  {
   "cell_type": "code",
   "execution_count": 14,
   "id": "fb87b5db",
   "metadata": {},
   "outputs": [
    {
     "name": "stdout",
     "output_type": "stream",
     "text": [
      "266.0 218\n"
     ]
    }
   ],
   "source": [
    "PIB_hab_simple_sans_NA = PIB_hab_simple.dropna()\n",
    "print(len(PIB_hab_simple['nom_pays'])/(2022-1960+1),len(PIB_hab_simple_sans_NA['nom_pays'])//(2022-1960+1)) # On a enlevé 48 pays ou groupe de pays de la liste"
   ]
  },
  {
   "cell_type": "markdown",
   "id": "3d7b70d9",
   "metadata": {},
   "source": [
    "Restriction aux pays suivants : France, Etats-unis, Angleterre, Russie, Chine, Japon, Brésil, Afrique du Sud"
   ]
  },
  {
   "cell_type": "code",
   "execution_count": 15,
   "id": "b558c96a",
   "metadata": {},
   "outputs": [
    {
     "name": "stdout",
     "output_type": "stream",
     "text": [
      "['Brazil' 'China' 'France' 'Japan' 'South Africa' 'United Kingdom'\n",
      " 'United States']\n",
      "     nom_pays  année  PIB_par_habitant\n",
      "4877   Brazil   2022       9032.084816\n",
      "4878   Brazil   2021       8799.229458\n",
      "4879   Brazil   2020       8435.011433\n",
      "4880   Brazil   2019       8771.440513\n",
      "4881   Brazil   2018       8722.336303\n",
      "...       ...    ...               ...\n",
      "5910    China   1964        206.399719\n",
      "5911    China   1963        178.749039\n",
      "5912    China   1962        166.089290\n",
      "5913    China   1961        177.353934\n",
      "5914    China   1960        241.388656\n",
      "\n",
      "[126 rows x 3 columns]\n"
     ]
    }
   ],
   "source": [
    "# Liste des pays à conserver\n",
    "pays_a_conserver = [\n",
    "    'France', 'United States', 'United Kingdom', \n",
    "    'Russia', 'China', 'Japan', 'Brazil', 'South Africa'\n",
    "]\n",
    "\n",
    "# Filtrer le DataFrame\n",
    "PIB_hab_filtré = PIB_hab_simple_sans_NA[PIB_hab_simple_sans_NA['nom_pays'].isin(pays_a_conserver)]\n",
    "\n",
    "# Vérifier le résultat\n",
    "print(PIB_hab_filtré['nom_pays'].unique())\n",
    "print(PIB_hab_filtré.head(126))"
   ]
  }
 ],
 "metadata": {
  "kernelspec": {
   "display_name": "Python 3",
   "language": "python",
   "name": "python3"
  },
  "language_info": {
   "codemirror_mode": {
    "name": "ipython",
    "version": 3
   },
   "file_extension": ".py",
   "mimetype": "text/x-python",
   "name": "python",
   "nbconvert_exporter": "python",
   "pygments_lexer": "ipython3",
   "version": "3.13.8"
  }
 },
 "nbformat": 4,
 "nbformat_minor": 5
}
